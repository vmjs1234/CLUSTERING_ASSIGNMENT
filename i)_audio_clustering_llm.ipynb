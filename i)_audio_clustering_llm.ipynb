{
  "nbformat": 4,
  "nbformat_minor": 0,
  "metadata": {
    "colab": {
      "provenance": [],
      "authorship_tag": "ABX9TyPnChHdZQASOJl16JArnaPj",
      "include_colab_link": true
    },
    "kernelspec": {
      "name": "python3",
      "display_name": "Python 3"
    },
    "language_info": {
      "name": "python"
    }
  },
  "cells": [
    {
      "cell_type": "markdown",
      "metadata": {
        "id": "view-in-github",
        "colab_type": "text"
      },
      "source": [
        "<a href=\"https://colab.research.google.com/github/vmjs1234/CLUSTERING_ASSIGNMENT/blob/main/i)_audio_clustering_llm.ipynb\" target=\"_parent\"><img src=\"https://colab.research.google.com/assets/colab-badge.svg\" alt=\"Open In Colab\"/></a>"
      ]
    },
    {
      "cell_type": "code",
      "execution_count": 2,
      "metadata": {
        "colab": {
          "base_uri": "https://localhost:8080/"
        },
        "id": "_nbsT3cHMAYg",
        "outputId": "8a1f6903-8c4a-4dca-e00a-b88f44bc9d49"
      },
      "outputs": [
        {
          "output_type": "stream",
          "name": "stdout",
          "text": [
            "Requirement already satisfied: librosa in /usr/local/lib/python3.10/dist-packages (0.10.2.post1)\n",
            "Requirement already satisfied: numpy in /usr/local/lib/python3.10/dist-packages (1.26.4)\n",
            "Requirement already satisfied: scikit-learn in /usr/local/lib/python3.10/dist-packages (1.5.2)\n",
            "Requirement already satisfied: audioread>=2.1.9 in /usr/local/lib/python3.10/dist-packages (from librosa) (3.0.1)\n",
            "Requirement already satisfied: scipy>=1.2.0 in /usr/local/lib/python3.10/dist-packages (from librosa) (1.13.1)\n",
            "Requirement already satisfied: joblib>=0.14 in /usr/local/lib/python3.10/dist-packages (from librosa) (1.4.2)\n",
            "Requirement already satisfied: decorator>=4.3.0 in /usr/local/lib/python3.10/dist-packages (from librosa) (4.4.2)\n",
            "Requirement already satisfied: numba>=0.51.0 in /usr/local/lib/python3.10/dist-packages (from librosa) (0.60.0)\n",
            "Requirement already satisfied: soundfile>=0.12.1 in /usr/local/lib/python3.10/dist-packages (from librosa) (0.12.1)\n",
            "Requirement already satisfied: pooch>=1.1 in /usr/local/lib/python3.10/dist-packages (from librosa) (1.8.2)\n",
            "Requirement already satisfied: soxr>=0.3.2 in /usr/local/lib/python3.10/dist-packages (from librosa) (0.5.0.post1)\n",
            "Requirement already satisfied: typing-extensions>=4.1.1 in /usr/local/lib/python3.10/dist-packages (from librosa) (4.12.2)\n",
            "Requirement already satisfied: lazy-loader>=0.1 in /usr/local/lib/python3.10/dist-packages (from librosa) (0.4)\n",
            "Requirement already satisfied: msgpack>=1.0 in /usr/local/lib/python3.10/dist-packages (from librosa) (1.1.0)\n",
            "Requirement already satisfied: threadpoolctl>=3.1.0 in /usr/local/lib/python3.10/dist-packages (from scikit-learn) (3.5.0)\n",
            "Requirement already satisfied: packaging in /usr/local/lib/python3.10/dist-packages (from lazy-loader>=0.1->librosa) (24.2)\n",
            "Requirement already satisfied: llvmlite<0.44,>=0.43.0dev0 in /usr/local/lib/python3.10/dist-packages (from numba>=0.51.0->librosa) (0.43.0)\n",
            "Requirement already satisfied: platformdirs>=2.5.0 in /usr/local/lib/python3.10/dist-packages (from pooch>=1.1->librosa) (4.3.6)\n",
            "Requirement already satisfied: requests>=2.19.0 in /usr/local/lib/python3.10/dist-packages (from pooch>=1.1->librosa) (2.32.3)\n",
            "Requirement already satisfied: cffi>=1.0 in /usr/local/lib/python3.10/dist-packages (from soundfile>=0.12.1->librosa) (1.17.1)\n",
            "Requirement already satisfied: pycparser in /usr/local/lib/python3.10/dist-packages (from cffi>=1.0->soundfile>=0.12.1->librosa) (2.22)\n",
            "Requirement already satisfied: charset-normalizer<4,>=2 in /usr/local/lib/python3.10/dist-packages (from requests>=2.19.0->pooch>=1.1->librosa) (3.4.0)\n",
            "Requirement already satisfied: idna<4,>=2.5 in /usr/local/lib/python3.10/dist-packages (from requests>=2.19.0->pooch>=1.1->librosa) (3.10)\n",
            "Requirement already satisfied: urllib3<3,>=1.21.1 in /usr/local/lib/python3.10/dist-packages (from requests>=2.19.0->pooch>=1.1->librosa) (2.2.3)\n",
            "Requirement already satisfied: certifi>=2017.4.17 in /usr/local/lib/python3.10/dist-packages (from requests>=2.19.0->pooch>=1.1->librosa) (2024.8.30)\n"
          ]
        },
        {
          "output_type": "execute_result",
          "data": {
            "text/plain": [
              "{'/content/CantinaBand60.wav': 1,\n",
              " '/content/Fanfare60.wav': 0,\n",
              " '/content/ImperialMarch60.wav': 1}"
            ]
          },
          "metadata": {},
          "execution_count": 2
        }
      ],
      "source": [
        "\n",
        "\n",
        "# Install necessary libraries\n",
        "!pip install librosa numpy scikit-learn\n",
        "\n",
        "import librosa\n",
        "import numpy as np\n",
        "from sklearn.cluster import KMeans\n",
        "from sklearn.preprocessing import StandardScaler\n",
        "\n",
        "def extract_features(audio_file):\n",
        "    \"\"\"Extracts MFCC features from an audio file.\"\"\"\n",
        "    try:\n",
        "        y, sr = librosa.load(audio_file)\n",
        "        mfccs = librosa.feature.mfcc(y=y, sr=sr, n_mfcc=20)  # Extract 20 MFCCs\n",
        "        mfccs_scaled = np.mean(mfccs.T,axis=0)\n",
        "    except Exception as e:\n",
        "        print(f\"Error processing {audio_file}: {e}\")\n",
        "        return None  # Return None for files that cause errors\n",
        "    return mfccs_scaled\n",
        "\n",
        "def cluster_audio(audio_files, n_clusters=3):\n",
        "  \"\"\"Clusters audio files based on MFCC features.\"\"\"\n",
        "\n",
        "  features = []\n",
        "  valid_files = [] #Keep track of files that were successfully processed\n",
        "  for file in audio_files:\n",
        "    extracted_features = extract_features(file)\n",
        "    if extracted_features is not None:\n",
        "      features.append(extracted_features)\n",
        "      valid_files.append(file)\n",
        "\n",
        "  if not features:\n",
        "    print(\"No valid audio files processed. Check file paths and formats.\")\n",
        "    return {}\n",
        "\n",
        "  # Scale features\n",
        "  scaler = StandardScaler()\n",
        "  features_scaled = scaler.fit_transform(features)\n",
        "\n",
        "  # Perform KMeans clustering\n",
        "  kmeans = KMeans(n_clusters=n_clusters, random_state=0)\n",
        "  kmeans.fit(features_scaled)\n",
        "\n",
        "  # Create a dictionary to store the clustering results\n",
        "  clustering_results = {}\n",
        "  for i, file in enumerate(valid_files):\n",
        "    cluster_label = kmeans.labels_[i]\n",
        "    clustering_results[file] = cluster_label\n",
        "\n",
        "  return clustering_results\n",
        "\n",
        "# Example usage\n",
        "audio_files = ['/content/CantinaBand60.wav', '/content/Fanfare60.wav', '/content/ImperialMarch60.wav'] # Replace with your audio file paths\n",
        "\n",
        "\n",
        "\n",
        "\n",
        "\n",
        "results = cluster_audio(audio_files, n_clusters=2)\n",
        "\n",
        "results"
      ]
    },
    {
      "cell_type": "code",
      "source": [
        "results"
      ],
      "metadata": {
        "colab": {
          "base_uri": "https://localhost:8080/"
        },
        "id": "VFVDI3gFNMEe",
        "outputId": "f546b458-7f48-4815-cf0d-99d8050580e3"
      },
      "execution_count": 3,
      "outputs": [
        {
          "output_type": "execute_result",
          "data": {
            "text/plain": [
              "{'/content/CantinaBand60.wav': 1,\n",
              " '/content/Fanfare60.wav': 0,\n",
              " '/content/ImperialMarch60.wav': 1}"
            ]
          },
          "metadata": {},
          "execution_count": 3
        }
      ]
    },
    {
      "cell_type": "code",
      "source": [
        "\n",
        "\n",
        "import matplotlib.pyplot as plt\n",
        "import pandas as pd\n",
        "\n",
        "def visualize_clusters(results):\n",
        "    \"\"\"Visualizes the clustering results.\"\"\"\n",
        "    if not results:\n",
        "        print(\"No clustering results to visualize.\")\n",
        "        return\n",
        "\n",
        "    df = pd.DataFrame(list(results.items()), columns=['Audio File', 'Cluster'])\n",
        "\n",
        "    plt.figure(figsize=(10, 6))\n",
        "    for cluster in df['Cluster'].unique():\n",
        "        cluster_data = df[df['Cluster'] == cluster]\n",
        "        plt.scatter(range(len(cluster_data)), [cluster] * len(cluster_data), label=f'Cluster {cluster}')\n",
        "        for i, txt in enumerate(cluster_data['Audio File']):\n",
        "              plt.annotate(txt.split('/')[-1], (i,cluster), fontsize=8)\n",
        "\n",
        "    plt.xlabel(\"Audio File Index\")\n",
        "    plt.ylabel(\"Cluster\")\n",
        "    plt.title(\"Audio File Clustering\")\n",
        "    plt.yticks(df['Cluster'].unique())\n",
        "    plt.legend()\n",
        "    plt.show()\n",
        "\n",
        "\n",
        "# Example usage (assuming 'results' from the previous code)\n",
        "\n",
        "visualize_clusters(results)"
      ],
      "metadata": {
        "colab": {
          "base_uri": "https://localhost:8080/",
          "height": 564
        },
        "id": "OEJPAtetNM68",
        "outputId": "30491091-236c-4672-e822-552b418ce3a5"
      },
      "execution_count": 4,
      "outputs": [
        {
          "output_type": "display_data",
          "data": {
            "text/plain": [
              "<Figure size 1000x600 with 1 Axes>"
            ],
            "image/png": "[encoded data removed]"
          },
          "metadata": {}
        }
      ]
    }
  ]
}